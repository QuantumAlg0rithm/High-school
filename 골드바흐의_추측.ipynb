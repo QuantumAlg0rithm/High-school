{
  "nbformat": 4,
  "nbformat_minor": 0,
  "metadata": {
    "colab": {
      "name": "골드바흐의 추측.ipynb",
      "provenance": [],
      "collapsed_sections": [],
      "include_colab_link": true
    },
    "kernelspec": {
      "name": "python3",
      "display_name": "Python 3"
    },
    "language_info": {
      "name": "python"
    }
  },
  "cells": [
    {
      "cell_type": "markdown",
      "metadata": {
        "id": "view-in-github",
        "colab_type": "text"
      },
      "source": [
        "<a href=\"https://colab.research.google.com/github/QuantumAlg0rithm/High-school/blob/main/%EA%B3%A8%EB%93%9C%EB%B0%94%ED%9D%90%EC%9D%98_%EC%B6%94%EC%B8%A1.ipynb\" target=\"_parent\"><img src=\"https://colab.research.google.com/assets/colab-badge.svg\" alt=\"Open In Colab\"/></a>"
      ]
    },
    {
      "cell_type": "code",
      "source": [
        "def num(입력):\n",
        "    소수리스트 = [2] # 입력보다 작은 소수들의 리스트\n",
        "    for i in range(3,입력+1):    # 소수 3부터 입력 값까지 반복\n",
        "        count=0 \n",
        "        for j in range(1,입력+1): # 입력 값 만큼 반복\n",
        "            if i%j==0:\n",
        "                count+=1\n",
        "        if count==2:\n",
        "            소수리스트.append(i)\n",
        "    return 소수리스트\n",
        "\n",
        "def 출력():\n",
        "    결과=[]\n",
        "    입력 = int(input(\"2보다 큰 짝수를 입력하세요 : \"))\n",
        "    for 소수1 in num(입력//2):  # 중복방지  \n",
        "        for 소수2 in num(입력):\n",
        "            if 소수1+소수2==입력:\n",
        "                결과.append([소수1,소수2])\n",
        "    print(결과)\n",
        "\n",
        "출력() "
      ],
      "metadata": {
        "colab": {
          "base_uri": "https://localhost:8080/"
        },
        "id": "oKTIqJ6_Hnme",
        "outputId": "274ef0a0-50f6-444d-d537-fcacf1391e79"
      },
      "execution_count": null,
      "outputs": [
        {
          "output_type": "stream",
          "name": "stdout",
          "text": [
            "2보다 큰 짝수를 입력하세요 : 326\n",
            "[[13, 313], [19, 307], [43, 283], [97, 229], [103, 223], [127, 199], [163, 163]]\n"
          ]
        }
      ]
    }
  ]
}